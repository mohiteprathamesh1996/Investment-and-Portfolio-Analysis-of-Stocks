{
 "cells": [
  {
   "cell_type": "markdown",
   "metadata": {},
   "source": [
    "#### Importing dependancies"
   ]
  },
  {
   "cell_type": "code",
   "execution_count": 8,
   "metadata": {},
   "outputs": [],
   "source": [
    "import pandas as pd\n",
    "import numpy as np\n",
    "import nltk\n",
    "from nltk.sentiment.vader import SentimentIntensityAnalyzer\n",
    "import seaborn as sns\n",
    "import matplotlib.pyplot as plt\n",
    "\n",
    "\n",
    "from textblob import TextBlob\n",
    "import requests \n",
    "from bs4 import BeautifulSoup\n",
    "# from sys import "
   ]
  },
  {
   "cell_type": "code",
   "execution_count": null,
   "metadata": {},
   "outputs": [],
   "source": []
  },
  {
   "cell_type": "code",
   "execution_count": 268,
   "metadata": {},
   "outputs": [],
   "source": [
    "# url = \"https://www.google.com/search?q={0}&source=lnms&tbm=nws\"\n",
    "url = \"https://www.google.com/search?q=PLUG&source=lnms&tbm=nws\""
   ]
  },
  {
   "cell_type": "code",
   "execution_count": null,
   "metadata": {},
   "outputs": [],
   "source": []
  },
  {
   "cell_type": "code",
   "execution_count": 269,
   "metadata": {},
   "outputs": [],
   "source": [
    "response = requests.get(url)"
   ]
  },
  {
   "cell_type": "code",
   "execution_count": 270,
   "metadata": {},
   "outputs": [],
   "source": [
    "soup = BeautifulSoup(response.text, \"html.parser\")"
   ]
  },
  {
   "cell_type": "code",
   "execution_count": 271,
   "metadata": {},
   "outputs": [],
   "source": [
    "headlines = soup.find_all(\"div\")"
   ]
  },
  {
   "cell_type": "code",
   "execution_count": 272,
   "metadata": {},
   "outputs": [],
   "source": [
    "d = []\n",
    "for h in headlines:\n",
    "    d.append(TextBlob(h.get_text()))"
   ]
  },
  {
   "cell_type": "code",
   "execution_count": 273,
   "metadata": {},
   "outputs": [
    {
     "data": {
      "text/plain": [
       "TextBlob(\"    AllNewsImagesShopping Maps Videos Books Search tools    All newsAll newsBlogsRecentRecentPast hourPast 24 hoursPast weekPast monthPast yearArchivesSorted by relevanceSorted by relevanceSorted by dateHere's How Much Investing $1,000 In Plug Power On The Day Obama Was Elected Would Be Worth TodayBenzinga2 hours ago · Investors who owned stocks in the last 13 years have generally experienced some big gains. In fact, the SPDR S&P 500 (NYSE: SPY) total...Plug Power Climbs on Better-than-Expected Adjusted ResultsTheStreet1 hour ago · Plug Power shares were higher after the producer of hydrogen-fuel-cell solutions posted better-than-expected third-quarter results.Why Plug Power and Bloom Energy Slipped but Livent Stock Soared FridayMotley Fool3 days ago · Earnings season sends three renewable energy stocks on very different paths.Plug Power Announces 2020 Third Quarter Results Nasdaq:PLUGGlobeNewswire8 hours ago · LATHAM, N.Y., Nov. 09, 2020 (GLOBE NEWSWIRE) -- Plug Power Inc. (NASDAQ:PLUG), a leading provider of hydrogen engines and fueling...Plug Power Stock Is Speculative But Potentially SpecialInvestorplace.com7 hours ago · I don't doubt that PLUG stock has squandered opportunities. But with a bright future for hydrogen energy, that narrative is primed to change.Plug Power (PLUG) Reports Q3 Loss, Tops Revenue EstimatesYahoo Finance6 hours ago · Plug Power (PLUG) delivered earnings and revenue surprises of -83.33% and 1.99%, respectively, for the quarter ended September 2020.Plug Power Announces 2020 Third Quarter ResultsYahoo Finance8 hours ago · LATHAM, N.Y., Nov. 09, 2020 (GLOBE NEWSWIRE) -- Plug Power Inc. (NASDAQ:PLUG), a leading provider of hydrogen engines and fueling...Why Plug Power, Bloom Energy, and Renewable Energy Group Stocks All Dropped After Election DayMotley Fool5 days ago · The election is over, we have no clear winner, and...so what?Plug Power: 3Q Earnings SnapshotSan Antonio Express-News7 hours ago · (AP) _ Plug Power Inc. (PLUG) on Monday reported a loss of $39.4 million in its third quarter. On a per-share basis, the Latham, New York-...Why Plug Power, Bloom Energy, and ConocoPhillips Stocks All Popped on Today's Vaccine NewsMotley Fool1 hour ago · And Plug Power and Bloom Energy? Both of those offer alternative energy solutions -- i.e. alternatives to oil. And whenever oil prices rise, the...  Next >  Sign inSettingsPrivacyTerms \")"
      ]
     },
     "execution_count": 273,
     "metadata": {},
     "output_type": "execute_result"
    }
   ],
   "source": [
    "d[7]"
   ]
  },
  {
   "cell_type": "code",
   "execution_count": 274,
   "metadata": {},
   "outputs": [
    {
     "data": {
      "text/plain": [
       "\"    AllNewsImagesShopping Maps Videos Books Search tools    All newsAll newsBlogsRecentRecentPast hourPast 24 hoursPast weekPast monthPast yearArchivesSorted by relevanceSorted by relevanceSorted by dateHere's How Much Investing $1,000 In Plug Power On The Day Obama Was Elected Would Be Worth TodayBenzinga2 hours ago · Investors who owned stocks in the last 13 years have generally experienced some big gains. In fact, the SPDR S&P 500 (NYSE: SPY) total\""
      ]
     },
     "execution_count": 274,
     "metadata": {},
     "output_type": "execute_result"
    }
   ],
   "source": [
    "d[7].split(\"...\")[0]"
   ]
  },
  {
   "cell_type": "code",
   "execution_count": null,
   "metadata": {},
   "outputs": [],
   "source": []
  },
  {
   "cell_type": "code",
   "execution_count": 267,
   "metadata": {},
   "outputs": [
    {
     "data": {
      "text/plain": [
       "\"    AllNewsImagesShopping Maps Videos Books Search tools    All newsAll newsBlogsRecentRecentPast hourPast 24 hoursPast weekPast monthPast yearArchivesSorted by relevanceSorted by relevanceSorted by datePlug Power Stock Is Speculative But Potentially SpecialInvestorplace.com2 hours ago · I don't doubt that PLUG stock has squandered opportunities. But with a bright future for hydrogen energy, that narrative is primed to change.Plug Power Announces 2020 Third Quarter ResultsYahoo Finance4 hours ago · LATHAM, N.Y., Nov. 09, 2020 (GLOBE NEWSWIRE) -- Plug Power Inc. (NASDAQ:PLUG), a leading provider of hydrogen engines and fueling\""
      ]
     },
     "execution_count": 267,
     "metadata": {},
     "output_type": "execute_result"
    }
   ],
   "source": [
    "d[7].split(\"...\")[0].replace(\"    AllNewsVideosBooks Images Maps Shopping Search tools    All newsAll newsBlogsRecentRecentPast hourPast 24 hoursPast weekPast monthPast yearArchivesSorted by relevanceSorted by relevanceSorted by date\",\n",
    "                             \"\")"
   ]
  },
  {
   "cell_type": "code",
   "execution_count": 275,
   "metadata": {},
   "outputs": [
    {
     "data": {
      "text/plain": [
       "'Plug Power Climbs on Better-than-Expected Adjusted ResultsTheStreet1 hour ago · Plug Power shares were higher after the producer of hydrogen-fuel-cell solutions posted better-than-expected third-quarter results.Why Plug Power and Bloom Energy Slipped but Livent Stock Soared FridayMotley Fool3 days ago · Earnings season sends three renewable energy stocks on very different paths.Plug Power Announces 2020 Third Quarter Results Nasdaq:PLUGGlobeNewswire8 hours ago · LATHAM, N.Y., Nov. 09, 2020 (GLOBE NEWSWIRE) -- Plug Power Inc. (NASDAQ:PLUG), a leading provider of hydrogen engines and fueling'"
      ]
     },
     "execution_count": 275,
     "metadata": {},
     "output_type": "execute_result"
    }
   ],
   "source": [
    "d[7].split(\"...\")[1]"
   ]
  },
  {
   "cell_type": "code",
   "execution_count": 276,
   "metadata": {},
   "outputs": [
    {
     "data": {
      "text/plain": [
       "\"Plug Power Stock Is Speculative But Potentially SpecialInvestorplace.com7 hours ago · I don't doubt that PLUG stock has squandered opportunities. But with a bright future for hydrogen energy, that narrative is primed to change.Plug Power (PLUG) Reports Q3 Loss, Tops Revenue EstimatesYahoo Finance6 hours ago · Plug Power (PLUG) delivered earnings and revenue surprises of -83.33% and 1.99%, respectively, for the quarter ended September 2020.Plug Power Announces 2020 Third Quarter ResultsYahoo Finance8 hours ago · LATHAM, N.Y., Nov. 09, 2020 (GLOBE NEWSWIRE) -- Plug Power Inc. (NASDAQ:PLUG), a leading provider of hydrogen engines and fueling\""
      ]
     },
     "execution_count": 276,
     "metadata": {},
     "output_type": "execute_result"
    }
   ],
   "source": [
    "d[7].split(\"...\")[2]"
   ]
  },
  {
   "cell_type": "code",
   "execution_count": 277,
   "metadata": {},
   "outputs": [
    {
     "data": {
      "text/plain": [
       "'Why Plug Power, Bloom Energy, and Renewable Energy Group Stocks All Dropped After Election DayMotley Fool5 days ago · The election is over, we have no clear winner, and'"
      ]
     },
     "execution_count": 277,
     "metadata": {},
     "output_type": "execute_result"
    }
   ],
   "source": [
    "d[7].split(\"...\")[3]"
   ]
  },
  {
   "cell_type": "code",
   "execution_count": 278,
   "metadata": {},
   "outputs": [
    {
     "data": {
      "text/plain": [
       "'so what?Plug Power: 3Q Earnings SnapshotSan Antonio Express-News7 hours ago · (AP) _ Plug Power Inc. (PLUG) on Monday reported a loss of $39.4 million in its third quarter. On a per-share basis, the Latham, New York-'"
      ]
     },
     "execution_count": 278,
     "metadata": {},
     "output_type": "execute_result"
    }
   ],
   "source": [
    "d[7].split(\"...\")[4]"
   ]
  },
  {
   "cell_type": "code",
   "execution_count": 279,
   "metadata": {},
   "outputs": [
    {
     "data": {
      "text/plain": [
       "\"Why Plug Power, Bloom Energy, and ConocoPhillips Stocks All Popped on Today's Vaccine NewsMotley Fool1 hour ago · And Plug Power and Bloom Energy? Both of those offer alternative energy solutions -- i.e. alternatives to oil. And whenever oil prices rise, the\""
      ]
     },
     "execution_count": 279,
     "metadata": {},
     "output_type": "execute_result"
    }
   ],
   "source": [
    "d[7].split(\"...\")[5]"
   ]
  },
  {
   "cell_type": "code",
   "execution_count": 280,
   "metadata": {},
   "outputs": [
    {
     "data": {
      "text/plain": [
       "'  Next >  Sign inSettingsPrivacyTerms '"
      ]
     },
     "execution_count": 280,
     "metadata": {},
     "output_type": "execute_result"
    }
   ],
   "source": [
    "d[7].split(\"...\")[6]"
   ]
  },
  {
   "cell_type": "code",
   "execution_count": null,
   "metadata": {},
   "outputs": [],
   "source": []
  },
  {
   "cell_type": "code",
   "execution_count": null,
   "metadata": {},
   "outputs": [],
   "source": []
  },
  {
   "cell_type": "code",
   "execution_count": null,
   "metadata": {},
   "outputs": [],
   "source": []
  },
  {
   "cell_type": "code",
   "execution_count": null,
   "metadata": {},
   "outputs": [],
   "source": []
  },
  {
   "cell_type": "code",
   "execution_count": null,
   "metadata": {},
   "outputs": [],
   "source": []
  },
  {
   "cell_type": "code",
   "execution_count": null,
   "metadata": {},
   "outputs": [],
   "source": []
  },
  {
   "cell_type": "code",
   "execution_count": null,
   "metadata": {},
   "outputs": [],
   "source": []
  },
  {
   "cell_type": "code",
   "execution_count": null,
   "metadata": {},
   "outputs": [],
   "source": []
  },
  {
   "cell_type": "code",
   "execution_count": null,
   "metadata": {},
   "outputs": [],
   "source": []
  },
  {
   "cell_type": "code",
   "execution_count": null,
   "metadata": {},
   "outputs": [],
   "source": []
  },
  {
   "cell_type": "code",
   "execution_count": null,
   "metadata": {},
   "outputs": [],
   "source": []
  },
  {
   "cell_type": "code",
   "execution_count": null,
   "metadata": {},
   "outputs": [],
   "source": []
  }
 ],
 "metadata": {
  "kernelspec": {
   "display_name": "Python 3",
   "language": "python",
   "name": "python3"
  },
  "language_info": {
   "codemirror_mode": {
    "name": "ipython",
    "version": 3
   },
   "file_extension": ".py",
   "mimetype": "text/x-python",
   "name": "python",
   "nbconvert_exporter": "python",
   "pygments_lexer": "ipython3",
   "version": "3.8.3"
  }
 },
 "nbformat": 4,
 "nbformat_minor": 4
}
