{
 "cells": [
  {
   "cell_type": "markdown",
   "metadata": {},
   "source": [
    "#### Importing dependancies"
   ]
  },
  {
   "cell_type": "code",
   "execution_count": 125,
   "metadata": {},
   "outputs": [],
   "source": [
    "import pandas as pd\n",
    "import numpy as np\n",
    "import nltk\n",
    "from nltk.sentiment.vader import SentimentIntensityAnalyzer\n",
    "import seaborn as sns\n",
    "import matplotlib.pyplot as plt\n",
    "\n",
    "from tqdm import tqdm\n",
    "\n",
    "from textblob import TextBlob\n",
    "import requests \n",
    "from bs4 import BeautifulSoup\n",
    "# from sys import\n",
    "import warnings\n",
    "warnings.filterwarnings(\"ignore\")"
   ]
  },
  {
   "cell_type": "code",
   "execution_count": null,
   "metadata": {},
   "outputs": [],
   "source": []
  },
  {
   "cell_type": "code",
   "execution_count": null,
   "metadata": {},
   "outputs": [],
   "source": []
  },
  {
   "cell_type": "code",
   "execution_count": 156,
   "metadata": {},
   "outputs": [
    {
     "name": "stderr",
     "output_type": "stream",
     "text": [
      "100%|███████████████████████████████████████████████████████████████████████████████| 63/63 [00:00<00:00, 15764.30it/s]\n",
      "100%|███████████████████████████████████████████████████████████████████████████████| 62/62 [00:00<00:00, 15445.88it/s]\n"
     ]
    }
   ],
   "source": [
    "term = 'AAPL stock'\n",
    "page=1\n",
    "\n",
    "newss = []\n",
    "\n",
    "while (page<20):\n",
    "\n",
    "    url ='https://news.search.yahoo.com/search?q={}&pz=10&b={}'.format(term,page)\n",
    "#     print(url)\n",
    "    page = page + 10\n",
    "    response = requests.get(url, headers=headers,verify=False)\n",
    "    if response.status_code !=200:\n",
    "        break\n",
    "    soup = BeautifulSoup(response.text, 'html.parser')\n",
    "    headlines = soup.find_all(\"div\")\n",
    "\n",
    "    d = []\n",
    "    for h in tqdm(headlines):\n",
    "        d.append(TextBlob(h.get_text()))\n",
    "    newss.append(d)"
   ]
  },
  {
   "cell_type": "code",
   "execution_count": 162,
   "metadata": {},
   "outputs": [
    {
     "data": {
      "text/plain": [
       "'Yahoo Web SearchYahooSettingsHomeMailNewsFinanceFantasySportsShoppingWeatherLifestyleHelpSettingsSign InSearch queryWeb Images Video News Local Answers Shopping MoreWhy Apple Stock Is a Buy on the iPhone 12 Mini AloneInvestorPlace· 5 hours agoWhen shares of Apple (NASDAQ:AAPL) topped $137.98 in September, stock markets were not in a selling mood at the time. Tesla (NASDAQ:TSLA) had previously'"
      ]
     },
     "execution_count": 162,
     "metadata": {},
     "output_type": "execute_result"
    }
   ],
   "source": [
    "newss[0][0].split(\"...\")[0]"
   ]
  },
  {
   "cell_type": "code",
   "execution_count": 163,
   "metadata": {},
   "outputs": [
    {
     "data": {
      "text/plain": [
       "\" Apple's 'One More Thing' Event: 3 Key Takeaways for AAPL StockInvestorPlace· 1 day agoApple (NASDAQ:AAPL) and its CEO Tim Cook are no strangers to groundbreaking technology\""
      ]
     },
     "execution_count": 163,
     "metadata": {},
     "output_type": "execute_result"
    }
   ],
   "source": [
    "newss[0][0].split(\"...\")[1]"
   ]
  },
  {
   "cell_type": "code",
   "execution_count": 164,
   "metadata": {},
   "outputs": [
    {
     "data": {
      "text/plain": [
       "'. AAPL Stock Bulls Could Be Very Disappointed This YearInvestorPlace· 5 days agoAfter Apple (NASDAQ:AAPL) received a boost from the work-at-home trend in its quarter that ended in'"
      ]
     },
     "execution_count": 164,
     "metadata": {},
     "output_type": "execute_result"
    }
   ],
   "source": [
    "newss[0][0].split(\"...\")[2]"
   ]
  },
  {
   "cell_type": "code",
   "execution_count": null,
   "metadata": {},
   "outputs": [],
   "source": []
  },
  {
   "cell_type": "code",
   "execution_count": 145,
   "metadata": {},
   "outputs": [],
   "source": [
    "# url = \"https://www.google.com/search?q={0}&source=lnms&tbm=nws\"\n",
    "url = \"https://news.search.yahoo.com/search?q={}&pz=10&b={}\".format(\"Modi\", 1)\n",
    "\n",
    "response = requests.get(url)\n",
    "\n",
    "soup = BeautifulSoup(response.text, \"html.parser\")\n",
    "\n",
    "headlines = soup.find_all(\"div\")\n",
    "\n",
    "d = []\n",
    "for h in headlines:\n",
    "    d.append(TextBlob(h.get_text()))"
   ]
  },
  {
   "cell_type": "code",
   "execution_count": null,
   "metadata": {},
   "outputs": [],
   "source": []
  },
  {
   "cell_type": "code",
   "execution_count": 146,
   "metadata": {},
   "outputs": [
    {
     "name": "stderr",
     "output_type": "stream",
     "text": [
      "100%|██████████████████████████████████████████████████████████████████████████████████████████| 12/12 [00:00<?, ?it/s]\n"
     ]
    }
   ],
   "source": [
    "allnews = [p for p in tqdm(d[0].split(\"...\"))]"
   ]
  },
  {
   "cell_type": "code",
   "execution_count": 147,
   "metadata": {},
   "outputs": [
    {
     "data": {
      "text/plain": [
       "'Yahoo Web SearchYahooSettingsHomeNewsMailFinanceTumblrWeatherSportsHelpSettingsSign InSearch queryWeb Images Video News Local Answers Shopping MoreBihar: Modi coalition wins narrow victory in key state election amid anger at Covid responseThe Independent via Yahoo News· 6 hours agoAn alliance led by prime minister Narendra Modi’s ruling party has secured a narrow win in the first'"
      ]
     },
     "execution_count": 147,
     "metadata": {},
     "output_type": "execute_result"
    }
   ],
   "source": [
    "allnews[0]"
   ]
  },
  {
   "cell_type": "code",
   "execution_count": 148,
   "metadata": {},
   "outputs": [
    {
     "data": {
      "text/plain": [
       "' India’s Narendra Modi Just Won a Crucial State Election Despite COVID-19. It’s a Triumph for His'"
      ]
     },
     "execution_count": 148,
     "metadata": {},
     "output_type": "execute_result"
    }
   ],
   "source": [
    "allnews[1]"
   ]
  },
  {
   "cell_type": "code",
   "execution_count": null,
   "metadata": {},
   "outputs": [],
   "source": []
  },
  {
   "cell_type": "code",
   "execution_count": 149,
   "metadata": {},
   "outputs": [
    {
     "data": {
      "text/plain": [
       "'Yahoo Web SearchYahooSettingsHomeNewsMailFinanceTumblrWeatherSportsHelpSettingsSign InSearch queryWeb Images Video News Local Answers Shopping MoreBihar: Modi coalition wins narrow victory in key state election amid anger at Covid responseThe Independent via Yahoo News· 6 hours agoAn alliance led by prime minister Narendra Modi’s ruling party has secured a narrow win in the first'"
      ]
     },
     "execution_count": 149,
     "metadata": {},
     "output_type": "execute_result"
    }
   ],
   "source": [
    "d[0].split(\"...\")[0]"
   ]
  },
  {
   "cell_type": "code",
   "execution_count": 150,
   "metadata": {},
   "outputs": [
    {
     "data": {
      "text/plain": [
       "' India’s Narendra Modi Just Won a Crucial State Election Despite COVID-19. It’s a Triumph for His'"
      ]
     },
     "execution_count": 150,
     "metadata": {},
     "output_type": "execute_result"
    }
   ],
   "source": [
    "d[0].split(\"...\")[1]"
   ]
  },
  {
   "cell_type": "code",
   "execution_count": 151,
   "metadata": {},
   "outputs": [
    {
     "data": {
      "text/plain": [
       "'Yahoo Web SearchYahooSettingsHomeNewsMailFinanceTumblrWeatherSportsHelpSettingsSign InSearch queryWeb Images Video News Local Answers Shopping MoreBihar: Modi coalition wins narrow victory in key state election amid anger at Covid responseThe Independent via Yahoo News· 6 hours '"
      ]
     },
     "execution_count": 151,
     "metadata": {},
     "output_type": "execute_result"
    }
   ],
   "source": [
    "d[0].split(\"ago\")[0]"
   ]
  },
  {
   "cell_type": "code",
   "execution_count": 152,
   "metadata": {},
   "outputs": [
    {
     "data": {
      "text/plain": [
       "' India’s Narendra Modi Just Won a Crucial State Election Despite COVID-19. It’s a Triumph for His'"
      ]
     },
     "execution_count": 152,
     "metadata": {},
     "output_type": "execute_result"
    }
   ],
   "source": [
    "d[0].split(\"...\")[1]"
   ]
  },
  {
   "cell_type": "code",
   "execution_count": null,
   "metadata": {},
   "outputs": [],
   "source": []
  },
  {
   "cell_type": "code",
   "execution_count": null,
   "metadata": {},
   "outputs": [],
   "source": []
  },
  {
   "cell_type": "code",
   "execution_count": null,
   "metadata": {},
   "outputs": [],
   "source": []
  }
 ],
 "metadata": {
  "kernelspec": {
   "display_name": "Python 3",
   "language": "python",
   "name": "python3"
  },
  "language_info": {
   "codemirror_mode": {
    "name": "ipython",
    "version": 3
   },
   "file_extension": ".py",
   "mimetype": "text/x-python",
   "name": "python",
   "nbconvert_exporter": "python",
   "pygments_lexer": "ipython3",
   "version": "3.8.3"
  }
 },
 "nbformat": 4,
 "nbformat_minor": 4
}
