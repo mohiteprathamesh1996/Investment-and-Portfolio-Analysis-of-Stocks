{
  "nbformat": 4,
  "nbformat_minor": 0,
  "metadata": {
    "colab": {
      "name": "PortfolioOpt.ipynb",
      "provenance": [],
      "collapsed_sections": [],
      "authorship_tag": "ABX9TyPMuRZuU6A2tUIBKNw1corW",
      "include_colab_link": true
    },
    "kernelspec": {
      "name": "python3",
      "display_name": "Python 3"
    }
  },
  "cells": [
    {
      "cell_type": "markdown",
      "metadata": {
        "id": "view-in-github",
        "colab_type": "text"
      },
      "source": [
        "<a href=\"https://colab.research.google.com/github/mohiteprathamesh1996/Investment-and-Portfolio-Analysis-of-Stocks/blob/main/PortfolioOpt.ipynb\" target=\"_parent\"><img src=\"https://colab.research.google.com/assets/colab-badge.svg\" alt=\"Open In Colab\"/></a>"
      ]
    },
    {
      "cell_type": "markdown",
      "metadata": {
        "id": "BY4CgNcLqLRn"
      },
      "source": [
        "#### Importing packages"
      ]
    },
    {
      "cell_type": "code",
      "metadata": {
        "id": "kC4WTK7NqJAs"
      },
      "source": [
        "import pandas as pd\n",
        "import numpy as np\n",
        "import pandas_datareader as pdr\n",
        "import datetime\n",
        "import matplotlib.pyplot as plt\n",
        "import seaborn as sns\n",
        "import warnings\n",
        "warnings.filterwarnings(\"ignore\")\n",
        "plt.style.use('fivethirtyeight')\n",
        "\n",
        "\n",
        "from pypfopt.efficient_frontier import EfficientFrontier\n",
        "from pypfopt import risk_models\n",
        "from pypfopt import expected_returns\n",
        "from pypfopt.cla import CLA\n",
        "from pypfopt.plotting import plot_efficient_frontier"
      ],
      "execution_count": null,
      "outputs": []
    },
    {
      "cell_type": "markdown",
      "metadata": {
        "id": "Q5l25RDfsIAW"
      },
      "source": [
        "#### Get returns and risk at status quo "
      ]
    },
    {
      "cell_type": "code",
      "metadata": {
        "id": "K3gSOENlLIyx"
      },
      "source": [
        "def ideal_return_volatility(list_of_assets):\n",
        "  # Assign equal weightage to each asset\n",
        "  assign_weights = np.array([1/len(list_of_assets) for i in list_of_assets])\n",
        "\n",
        "  # Fetch live data\n",
        "  df = pdr.get_data_yahoo(list_of_assets, \n",
        "                          start=str(datetime.date.today()-datetime.timedelta(days=365)),\n",
        "                          end=str(datetime.date.today()))[\"Adj Close\"]\n",
        "  \n",
        "  # Get per day return %\n",
        "  returns = df.pct_change()\n",
        "\n",
        "  # Get annual covariance matrix\n",
        "  annual_cov_matrix = returns.cov() * df.shape[0]\n",
        "  \n",
        "  # Calculate net portfolio variance\n",
        "  portfolio_variance = np.dot(assign_weights.T, np.dot(annual_cov_matrix, assign_weights))\n",
        "  \n",
        "  # Calculate net portfolio volatility\n",
        "  portfolio_volatility = np.sqrt(portfolio_variance)\n",
        "  \n",
        "  # Calculate simple annual return\n",
        "  simple_annual_return = np.sum(returns.mean()*assign_weights) * df.shape[0]\n",
        "  \n",
        "  print(\"Expected annual return = \",round(simple_annual_return*100, 2), \"%\")\n",
        "  print(\"Annual volatility = \",round(portfolio_volatility*100, 2), \"%\") "
      ],
      "execution_count": null,
      "outputs": []
    },
    {
      "cell_type": "markdown",
      "metadata": {
        "id": "Fka4SoiFtcgn"
      },
      "source": [
        "#### Optimizing the portfolio of assets with an objective to maximize returns given other risks"
      ]
    },
    {
      "cell_type": "code",
      "metadata": {
        "id": "dSN4xev3s4wY"
      },
      "source": [
        "def optimized_portfolio(list_of_assets, budget):\n",
        "  '''\n",
        "  Runs a simulation to generate portfolio of assets with an objective to maximize returns given other risks.\n",
        "  \n",
        "  Parameters:\n",
        "  -----------  \n",
        "      list_of_assets: list\n",
        "          all the assets that are to be pulled from pandas datareader to comprise.    \n",
        "      \n",
        "      budget: int \n",
        "          amount of investment in US $.\n",
        "\n",
        "  '''\n",
        "  # Fetch live data\n",
        "  df = pdr.get_data_yahoo(list_of_assets, \n",
        "                          start=str(datetime.date.today()-datetime.timedelta(days=365)),\n",
        "                          end=str(datetime.date.today()))[\"Adj Close\"]\n",
        "\n",
        "  # Get the latest price\n",
        "  latest_price = get_latest_prices(df)\n",
        "\n",
        "  # Get average expected return\n",
        "  mean_expected_return = expected_returns.mean_historical_return(df)\n",
        "\n",
        "  # Generate sample covariance matrix to measure relative price fluctuation\n",
        "  sample_covariance_matrix = risk_models.sample_cov(df)\n",
        "\n",
        "  plt.rcParams[\"figure.figsize\"] = (10, 5)\n",
        "  plt.rcParams[\"font.size\"] = 12\n",
        "  plot_efficient_frontier(CLA(mean_expected_return, sample_covariance_matrix))\n",
        "  plt.show()\n",
        "\n",
        "  print(\"\\n At a given budget of USD ${}, \\n\".format(budget))\n",
        "\n",
        "\n",
        "  # Fitting the Efficient Frontier to obtain optimized weights for each asset\n",
        "  print(\"If Objective -> Optimized Portfolio to Maximize Expected Return: \\n\")\n",
        "  ef_max_sharpe = EfficientFrontier(mean_expected_return, sample_covariance_matrix)\n",
        "  clean_weights_max_sharpe = ef_max_sharpe.max_sharpe()\n",
        "  print(clean_weights_max_sharpe)\n",
        "  ef_max_sharpe.portfolio_performance(verbose=True)\n",
        "  print(\"\\nSuggested discrete allocation plan\")\n",
        "  d_allocate = DiscreteAllocation(clean_weights_max_sharpe, latest_price, total_portfolio_value=budget)\n",
        "  allocated, balance = d_allocate.greedy_portfolio()\n",
        "  print(allocated)\n",
        "  print(\"Remaining Balance = $\", round(balance, 2))\n",
        "  \n",
        "  \n",
        "  print(\"\\n*****************************************************************************************\\n\")\n",
        "  print(\"If Objective -> Optimized Portfolio to Minimize Volatility: \\n\")\n",
        "  ef_min_risk = EfficientFrontier(mean_expected_return, sample_covariance_matrix)\n",
        "  clean_weights_min_risk = ef_min_risk.min_volatility()\n",
        "  print(clean_weights_min_risk)\n",
        "  ef_min_risk.portfolio_performance(verbose=True)\n",
        "  print(\"\\nSuggested discrete allocation plan\")\n",
        "  d_allocate = DiscreteAllocation(clean_weights_min_risk, latest_price, total_portfolio_value=budget)\n",
        "  allocated, balance = d_allocate.greedy_portfolio()\n",
        "  print(allocated)\n",
        "  print(\"Remaining Balance = $\", round(balance, 2))"
      ],
      "execution_count": 655,
      "outputs": []
    },
    {
      "cell_type": "code",
      "metadata": {
        "id": "0k404oCH7jlq"
      },
      "source": [
        "assets = [\"CRM\", \"CRWD\", \"ETSY\", \"QRVO\", \"JD\", \"TTM\"]"
      ],
      "execution_count": null,
      "outputs": []
    },
    {
      "cell_type": "code",
      "metadata": {
        "id": "NT3YJqdP5vOx",
        "colab": {
          "base_uri": "https://localhost:8080/"
        },
        "outputId": "8e1840b6-1c73-4181-c4b1-3f65fdf711b4"
      },
      "source": [
        "ideal_return_volatility(list_of_assets=[\"FB\",\"AMZN\",\"AAPL\",\"NFLX\",\"GOOGL\"])"
      ],
      "execution_count": null,
      "outputs": [
        {
          "output_type": "stream",
          "text": [
            "Expected annual return =  56.54 %\n",
            "Annual volatility =  37.02 %\n"
          ],
          "name": "stdout"
        }
      ]
    },
    {
      "cell_type": "code",
      "metadata": {
        "id": "fj0OkCVN5vM1",
        "colab": {
          "base_uri": "https://localhost:8080/",
          "height": 802
        },
        "outputId": "98139c19-5689-4d36-bcff-d7a6c0819990"
      },
      "source": [
        "optimized_portfolio(list_of_assets=[\"FB\",\"AMZN\",\"AAPL\",\"NFLX\",\"GOOGL\"], budget=50000)"
      ],
      "execution_count": null,
      "outputs": [
        {
          "output_type": "display_data",
          "data": {
            "image/png": "[encoded data removed]",
            "text/plain": [
              "<Figure size 720x360 with 1 Axes>"
            ]
          },
          "metadata": {
            "tags": []
          }
        },
        {
          "output_type": "stream",
          "text": [
            "\n",
            " At a given budget of USD $50000, \n",
            "\n",
            "If Objective -> Optimized Portfolio to Maximize Expected Return: \n",
            "\n",
            "OrderedDict([('FB', 0.0), ('AMZN', 0.7040956199226345), ('AAPL', 0.2959043800773654), ('NFLX', 0.0), ('GOOGL', 0.0)])\n",
            "Expected annual return: 83.3%\n",
            "Annual volatility: 38.1%\n",
            "Sharpe Ratio: 2.13\n",
            "\n",
            "Suggested discrete allocation plan\n",
            "{'AMZN': 11, 'AAPL': 121}\n",
            "Remaining Balance = $ 419.37\n",
            "\n",
            "*****************************************************************************************\n",
            "\n",
            "If Objective -> Optimized Portfolio to Minimize Volatility: \n",
            "\n",
            "OrderedDict([('FB', 0.0), ('AMZN', 0.3824307002565602), ('AAPL', 0.0), ('NFLX', 0.1463828365992051), ('GOOGL', 0.4711864631442346)])\n",
            "Expected annual return: 57.8%\n",
            "Annual volatility: 35.0%\n",
            "Sharpe Ratio: 1.60\n",
            "\n",
            "Suggested discrete allocation plan\n",
            "{'GOOGL': 13, 'AMZN': 6, 'NFLX': 14}\n",
            "Remaining Balance = $ 339.3\n"
          ],
          "name": "stdout"
        }
      ]
    },
    {
      "cell_type": "code",
      "metadata": {
        "id": "HrzIpIHa5vKw"
      },
      "source": [
        ""
      ],
      "execution_count": null,
      "outputs": []
    },
    {
      "cell_type": "code",
      "metadata": {
        "id": "LIjleVpW5vIl"
      },
      "source": [
        ""
      ],
      "execution_count": null,
      "outputs": []
    },
    {
      "cell_type": "code",
      "metadata": {
        "id": "G3yGO-tp5vGh"
      },
      "source": [
        ""
      ],
      "execution_count": null,
      "outputs": []
    },
    {
      "cell_type": "code",
      "metadata": {
        "id": "44svsCVj5vEY"
      },
      "source": [
        ""
      ],
      "execution_count": null,
      "outputs": []
    },
    {
      "cell_type": "code",
      "metadata": {
        "id": "OIXSo6pbtUnm"
      },
      "source": [
        ""
      ],
      "execution_count": null,
      "outputs": []
    }
  ]
}