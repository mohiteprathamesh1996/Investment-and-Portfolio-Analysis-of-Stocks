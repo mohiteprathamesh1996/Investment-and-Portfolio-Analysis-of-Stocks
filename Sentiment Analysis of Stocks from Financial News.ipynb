{
 "cells": [
  {
   "cell_type": "markdown",
   "metadata": {},
   "source": [
    "#### Importing dependancies"
   ]
  },
  {
   "cell_type": "code",
   "execution_count": 2,
   "metadata": {},
   "outputs": [],
   "source": [
    "# To fetch URLs i.e. uniform resource locators\n",
    "from urllib.request import urlopen, Request\n",
    "\n",
    "# To fetch data from HTML and/or XML files\n",
    "from bs4 import BeautifulSoup\n",
    "\n",
    "# For sentiment analysis and download vader_lexicon to measure sentiment intensity\n",
    "# import nltk; nltk.download()\n",
    "from nltk.sentiment.vader import SentimentIntensityAnalyzer\n",
    "\n",
    "import requests\n",
    "import pandas as pd\n",
    "import numpy as np\n",
    "import matplotlib.pyplot as plt\n",
    "import seaborn as sns\n",
    "from itertools import groupby\n",
    "from operator import itemgetter\n",
    "from tqdm import tqdm"
   ]
  },
  {
   "cell_type": "code",
   "execution_count": 3,
   "metadata": {},
   "outputs": [],
   "source": [
    "def find_missing(lst): \n",
    "    return [i for x, y in zip(lst, lst[1:])  \n",
    "        for i in range(x + 1, y) if y - x > 1] "
   ]
  },
  {
   "cell_type": "code",
   "execution_count": null,
   "metadata": {},
   "outputs": [],
   "source": []
  },
  {
   "cell_type": "code",
   "execution_count": null,
   "metadata": {},
   "outputs": [],
   "source": []
  },
  {
   "cell_type": "code",
   "execution_count": null,
   "metadata": {},
   "outputs": [],
   "source": []
  },
  {
   "cell_type": "code",
   "execution_count": 36,
   "metadata": {},
   "outputs": [],
   "source": [
    "tickers = ['AAPL']\n",
    "\n",
    "finviz_url = 'https://finviz.com/quote.ashx?t='\n",
    "\n",
    "def news_table(finviz_url, tickers):\n",
    "    df = []\n",
    "\n",
    "    news_tables = {}\n",
    "\n",
    "    for ticker in tqdm(tickers):\n",
    "        news_tables[ticker] = BeautifulSoup(urlopen(Request(url=finviz_url + ticker,\n",
    "                                                            headers={\"user-agent\":\"my-app\"})),\n",
    "                                            \"html\").find(id=\"news-table\")\n",
    "\n",
    "\n",
    "\n",
    "        df.append(pd.DataFrame([(row.a.get_text(), \n",
    "                                 row.td.text,\n",
    "                                 ticker) for index, row in enumerate(news_tables[ticker].findAll(\"tr\"))], \n",
    "                               columns = [\"Title\",\"Timestamp\",\"Ticker\"]))\n",
    "\n",
    "    df = pd.concat(df).reset_index(drop=True)\n",
    "\n",
    "    for k, g in groupby(enumerate([i for i in range(len(df[\"Timestamp\"])) if len(df[\"Timestamp\"][i])!=19]), \n",
    "                        lambda i_x: i_x[0] - i_x[1]):\n",
    "        l = list(map(itemgetter(1), g))\n",
    "        v = df.iloc[l[0]-1,:][\"Timestamp\"].split(\" \")[0]+\" \"+df.iloc[l,:][\"Timestamp\"]\n",
    "        df.iloc[l,1] = v\n",
    "\n",
    "    df[\"Timestamp\"] = pd.to_datetime(df[\"Timestamp\"]).dt.date\n",
    "    \n",
    "    vader = SentimentIntensityAnalyzer()\n",
    "    \n",
    "    df[\"compound\"] = [vader.polarity_scores(titles)[\"compound\"] for titles in df[\"Title\"]]\n",
    "    \n",
    "    return df.groupby([\"Ticker\",\"Timestamp\"]).mean().unstack().xs(\"compound\", axis=\"columns\").transpose()"
   ]
  },
  {
   "cell_type": "code",
   "execution_count": null,
   "metadata": {},
   "outputs": [],
   "source": []
  },
  {
   "cell_type": "code",
   "execution_count": null,
   "metadata": {},
   "outputs": [],
   "source": []
  },
  {
   "cell_type": "code",
   "execution_count": 31,
   "metadata": {},
   "outputs": [
    {
     "name": "stderr",
     "output_type": "stream",
     "text": [
      "100%|████████████████████████████████████████████████████████████████████████████████████| 1/1 [00:01<00:00,  1.70s/it]\n"
     ]
    },
    {
     "data": {
      "image/png": "[encoded data removed]",
      "text/plain": [
       "<Figure size 1080x360 with 1 Axes>"
      ]
     },
     "metadata": {
      "needs_background": "light"
     },
     "output_type": "display_data"
    }
   ],
   "source": [
    "plt.rcParams[\"figure.figsize\"] = (15,5)\n",
    "\n",
    "news_table(finviz_url, [\"PLUG\"]).plot(kind=\"bar\")\n",
    "plt.show()"
   ]
  },
  {
   "cell_type": "code",
   "execution_count": null,
   "metadata": {},
   "outputs": [],
   "source": []
  },
  {
   "cell_type": "code",
   "execution_count": 35,
   "metadata": {},
   "outputs": [
    {
     "name": "stderr",
     "output_type": "stream",
     "text": [
      "100%|████████████████████████████████████████████████████████████████████████████████████| 1/1 [00:01<00:00,  1.94s/it]\n"
     ]
    },
    {
     "data": {
      "text/html": [
       "<div>\n",
       "<style scoped>\n",
       "    .dataframe tbody tr th:only-of-type {\n",
       "        vertical-align: middle;\n",
       "    }\n",
       "\n",
       "    .dataframe tbody tr th {\n",
       "        vertical-align: top;\n",
       "    }\n",
       "\n",
       "    .dataframe thead th {\n",
       "        text-align: right;\n",
       "    }\n",
       "</style>\n",
       "<table border=\"1\" class=\"dataframe\">\n",
       "  <thead>\n",
       "    <tr style=\"text-align: right;\">\n",
       "      <th></th>\n",
       "      <th>Title</th>\n",
       "      <th>Timestamp</th>\n",
       "      <th>Ticker</th>\n",
       "      <th>compound</th>\n",
       "    </tr>\n",
       "  </thead>\n",
       "  <tbody>\n",
       "    <tr>\n",
       "      <th>0</th>\n",
       "      <td>Plug Power: Next Stop, $30?</td>\n",
       "      <td>2020-11-11</td>\n",
       "      <td>PLUG</td>\n",
       "      <td>-0.2960</td>\n",
       "    </tr>\n",
       "    <tr>\n",
       "      <th>1</th>\n",
       "      <td>Why Plug Power Stock Just Popped 10%</td>\n",
       "      <td>2020-11-11</td>\n",
       "      <td>PLUG</td>\n",
       "      <td>0.0000</td>\n",
       "    </tr>\n",
       "    <tr>\n",
       "      <th>2</th>\n",
       "      <td>Plug Power Is Firing on All Cylinders; Analyst...</td>\n",
       "      <td>2020-11-10</td>\n",
       "      <td>PLUG</td>\n",
       "      <td>-0.3400</td>\n",
       "    </tr>\n",
       "    <tr>\n",
       "      <th>3</th>\n",
       "      <td>Why Plug Power Stock Popped 6% This Morning --...</td>\n",
       "      <td>2020-11-10</td>\n",
       "      <td>PLUG</td>\n",
       "      <td>0.0000</td>\n",
       "    </tr>\n",
       "    <tr>\n",
       "      <th>4</th>\n",
       "      <td>Plug Powers Q3 beat leads to price-target incr...</td>\n",
       "      <td>2020-11-10</td>\n",
       "      <td>PLUG</td>\n",
       "      <td>0.3182</td>\n",
       "    </tr>\n",
       "    <tr>\n",
       "      <th>...</th>\n",
       "      <td>...</td>\n",
       "      <td>...</td>\n",
       "      <td>...</td>\n",
       "      <td>...</td>\n",
       "    </tr>\n",
       "    <tr>\n",
       "      <th>95</th>\n",
       "      <td>Plug Power To Host Virtual Plug Symposium On S...</td>\n",
       "      <td>2020-09-21</td>\n",
       "      <td>PLUG</td>\n",
       "      <td>0.0000</td>\n",
       "    </tr>\n",
       "    <tr>\n",
       "      <th>96</th>\n",
       "      <td>Cramer Shares His Thoughts On Plug Power, Zebr...</td>\n",
       "      <td>2020-09-20</td>\n",
       "      <td>PLUG</td>\n",
       "      <td>0.2960</td>\n",
       "    </tr>\n",
       "    <tr>\n",
       "      <th>97</th>\n",
       "      <td>Why Plug Power Is Sinking to Zero While a Risi...</td>\n",
       "      <td>2020-09-18</td>\n",
       "      <td>PLUG</td>\n",
       "      <td>0.0000</td>\n",
       "    </tr>\n",
       "    <tr>\n",
       "      <th>98</th>\n",
       "      <td>Why Blink Charging, Pivotal Investment, and Pl...</td>\n",
       "      <td>2020-09-18</td>\n",
       "      <td>PLUG</td>\n",
       "      <td>0.0000</td>\n",
       "    </tr>\n",
       "    <tr>\n",
       "      <th>99</th>\n",
       "      <td>Plug Power (PLUG) Stock Moves -0.77%: What You...</td>\n",
       "      <td>2020-09-17</td>\n",
       "      <td>PLUG</td>\n",
       "      <td>0.0000</td>\n",
       "    </tr>\n",
       "  </tbody>\n",
       "</table>\n",
       "<p>100 rows × 4 columns</p>\n",
       "</div>"
      ],
      "text/plain": [
       "                                                Title   Timestamp Ticker  \\\n",
       "0                         Plug Power: Next Stop, $30?  2020-11-11   PLUG   \n",
       "1                Why Plug Power Stock Just Popped 10%  2020-11-11   PLUG   \n",
       "2   Plug Power Is Firing on All Cylinders; Analyst...  2020-11-10   PLUG   \n",
       "3   Why Plug Power Stock Popped 6% This Morning --...  2020-11-10   PLUG   \n",
       "4   Plug Powers Q3 beat leads to price-target incr...  2020-11-10   PLUG   \n",
       "..                                                ...         ...    ...   \n",
       "95  Plug Power To Host Virtual Plug Symposium On S...  2020-09-21   PLUG   \n",
       "96  Cramer Shares His Thoughts On Plug Power, Zebr...  2020-09-20   PLUG   \n",
       "97  Why Plug Power Is Sinking to Zero While a Risi...  2020-09-18   PLUG   \n",
       "98  Why Blink Charging, Pivotal Investment, and Pl...  2020-09-18   PLUG   \n",
       "99  Plug Power (PLUG) Stock Moves -0.77%: What You...  2020-09-17   PLUG   \n",
       "\n",
       "    compound  \n",
       "0    -0.2960  \n",
       "1     0.0000  \n",
       "2    -0.3400  \n",
       "3     0.0000  \n",
       "4     0.3182  \n",
       "..       ...  \n",
       "95    0.0000  \n",
       "96    0.2960  \n",
       "97    0.0000  \n",
       "98    0.0000  \n",
       "99    0.0000  \n",
       "\n",
       "[100 rows x 4 columns]"
      ]
     },
     "execution_count": 35,
     "metadata": {},
     "output_type": "execute_result"
    }
   ],
   "source": [
    "news_table(finviz_url, [\"PLUG\"])"
   ]
  },
  {
   "cell_type": "code",
   "execution_count": null,
   "metadata": {},
   "outputs": [],
   "source": []
  },
  {
   "cell_type": "code",
   "execution_count": null,
   "metadata": {},
   "outputs": [],
   "source": []
  },
  {
   "cell_type": "code",
   "execution_count": null,
   "metadata": {},
   "outputs": [],
   "source": []
  }
 ],
 "metadata": {
  "kernelspec": {
   "display_name": "Python 3",
   "language": "python",
   "name": "python3"
  },
  "language_info": {
   "codemirror_mode": {
    "name": "ipython",
    "version": 3
   },
   "file_extension": ".py",
   "mimetype": "text/x-python",
   "name": "python",
   "nbconvert_exporter": "python",
   "pygments_lexer": "ipython3",
   "version": "3.8.3"
  }
 },
 "nbformat": 4,
 "nbformat_minor": 4
}
