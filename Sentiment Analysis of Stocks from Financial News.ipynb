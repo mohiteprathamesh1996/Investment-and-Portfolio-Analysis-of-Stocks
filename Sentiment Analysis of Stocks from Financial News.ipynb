{
 "cells": [
  {
   "cell_type": "markdown",
   "metadata": {},
   "source": [
    "#### Importing dependancies"
   ]
  },
  {
   "cell_type": "code",
   "execution_count": 1,
   "metadata": {},
   "outputs": [],
   "source": [
    "# To fetch URLs i.e. uniform resource locators\n",
    "from urllib.request import urlopen, Request\n",
    "\n",
    "# To fetch data from HTML and/or XML files\n",
    "from bs4 import BeautifulSoup\n",
    "\n",
    "# For sentiment analysis and download vader_lexicon to measure sentiment intensity\n",
    "# import nltk; nltk.download()\n",
    "from nltk.sentiment.vader import SentimentIntensityAnalyzer\n",
    "\n",
    "import requests\n",
    "import pandas as pd\n",
    "import numpy as np\n",
    "import matplotlib.pyplot as plt\n",
    "import seaborn as sns\n",
    "from itertools import groupby\n",
    "from operator import itemgetter\n",
    "from tqdm import tqdm"
   ]
  },
  {
   "cell_type": "code",
   "execution_count": 2,
   "metadata": {},
   "outputs": [],
   "source": [
    "def find_missing(lst): \n",
    "    return [i for x, y in zip(lst, lst[1:])  \n",
    "        for i in range(x + 1, y) if y - x > 1] "
   ]
  },
  {
   "cell_type": "code",
   "execution_count": null,
   "metadata": {},
   "outputs": [],
   "source": []
  },
  {
   "cell_type": "code",
   "execution_count": null,
   "metadata": {},
   "outputs": [],
   "source": []
  },
  {
   "cell_type": "code",
   "execution_count": null,
   "metadata": {},
   "outputs": [],
   "source": []
  },
  {
   "cell_type": "code",
   "execution_count": 6,
   "metadata": {},
   "outputs": [],
   "source": [
    "tickers = ['AAPL','PLUG']\n",
    "\n",
    "finviz_url = 'https://finviz.com/quote.ashx?t='"
   ]
  },
  {
   "cell_type": "code",
   "execution_count": null,
   "metadata": {},
   "outputs": [],
   "source": []
  },
  {
   "cell_type": "code",
   "execution_count": 7,
   "metadata": {},
   "outputs": [],
   "source": [
    "def news_table(finviz_url, tickers):\n",
    "    df = []\n",
    "\n",
    "    news_tables = {}\n",
    "\n",
    "    for ticker in tqdm(tickers):\n",
    "        news_tables[ticker] = BeautifulSoup(urlopen(Request(url=finviz_url + ticker,\n",
    "                                                            headers={\"user-agent\":\"my-app\"})),\n",
    "                                            \"html\").find(id=\"news-table\")\n",
    "\n",
    "\n",
    "\n",
    "        df.append(pd.DataFrame([(row.a.get_text(), \n",
    "                                 row.td.text,\n",
    "                                 ticker) for index, row in enumerate(news_tables[ticker].findAll(\"tr\"))], \n",
    "                               columns = [\"Title\",\"Timestamp\",\"Ticker\"]))\n",
    "\n",
    "    df = pd.concat(df).reset_index(drop=True)\n",
    "\n",
    "    for k, g in groupby(enumerate([i for i in range(len(df[\"Timestamp\"])) if len(df[\"Timestamp\"][i])!=19]), \n",
    "                        lambda i_x: i_x[0] - i_x[1]):\n",
    "        l = list(map(itemgetter(1), g))\n",
    "        v = df.iloc[l[0]-1,:][\"Timestamp\"].split(\" \")[0]+\" \"+df.iloc[l,:][\"Timestamp\"]\n",
    "        df.iloc[l,1] = v\n",
    "\n",
    "    df[\"Timestamp\"] = pd.to_datetime(df[\"Timestamp\"]).dt.date\n",
    "    \n",
    "    vader = SentimentIntensityAnalyzer()\n",
    "    \n",
    "    df[\"compound\"] = [vader.polarity_scores(titles)[\"compound\"] for titles in df[\"Title\"]]\n",
    "    \n",
    "    return df.groupby([\"Ticker\",\"Timestamp\"]).mean().unstack().xs(\"compound\", axis=\"columns\").transpose()"
   ]
  },
  {
   "cell_type": "code",
   "execution_count": null,
   "metadata": {},
   "outputs": [],
   "source": []
  },
  {
   "cell_type": "code",
   "execution_count": null,
   "metadata": {},
   "outputs": [],
   "source": []
  },
  {
   "cell_type": "code",
   "execution_count": 15,
   "metadata": {},
   "outputs": [
    {
     "name": "stderr",
     "output_type": "stream",
     "text": [
      "100%|████████████████████████████████████████████████████████████████████████████████████| 1/1 [00:02<00:00,  2.16s/it]\n"
     ]
    },
    {
     "data": {
      "image/png": "[encoded data removed]",
      "text/plain": [
       "<Figure size 432x288 with 1 Axes>"
      ]
     },
     "metadata": {
      "needs_background": "light"
     },
     "output_type": "display_data"
    }
   ],
   "source": [
    "news_table(finviz_url, [\"AMZN\"]).tail(10).plot(kind=\"bar\")\n",
    "plt.show()"
   ]
  },
  {
   "cell_type": "code",
   "execution_count": null,
   "metadata": {},
   "outputs": [],
   "source": []
  },
  {
   "cell_type": "code",
   "execution_count": null,
   "metadata": {},
   "outputs": [],
   "source": []
  },
  {
   "cell_type": "code",
   "execution_count": null,
   "metadata": {},
   "outputs": [],
   "source": []
  },
  {
   "cell_type": "code",
   "execution_count": null,
   "metadata": {},
   "outputs": [],
   "source": []
  }
 ],
 "metadata": {
  "kernelspec": {
   "display_name": "Python 3",
   "language": "python",
   "name": "python3"
  },
  "language_info": {
   "codemirror_mode": {
    "name": "ipython",
    "version": 3
   },
   "file_extension": ".py",
   "mimetype": "text/x-python",
   "name": "python",
   "nbconvert_exporter": "python",
   "pygments_lexer": "ipython3",
   "version": "3.8.3"
  }
 },
 "nbformat": 4,
 "nbformat_minor": 4
}
